{
  "cells": [
    {
      "cell_type": "markdown",
      "metadata": {
        "id": "YnWFu6BGIbf0"
      },
      "source": [
        "## Santiago Guerrero Elias Giovanni\n",
        "\n",
        "## 01/09/2022"
      ]
    },
    {
      "cell_type": "markdown",
      "metadata": {
        "id": "4VFT5_VnJl19"
      },
      "source": [
        "# Actividad 1: Conceptos generales de redes neuronales\n",
        "En esta actividad vamos a revisar algunos de los conceptos basicos de las redes neuronales, pero no por ello menos importantes.\n",
        "\n",
        "El dataset a utilizar es Fashion MNIST, un problema sencillo con imágenes pequeñas de ropa, pero más interesante que el dataset de MNIST. Puedes consultar más información sobre el dataset en este enlace.\n",
        "\n",
        "El código utilizado para contestar tiene que quedar claramente reflejado en el Notebook. Puedes crear nuevas cells si así lo deseas para estructurar tu código y sus salidas. A la hora de entregar el notebook, asegúrate de que los resultados de ejecutar tu código han quedado guardados (por ejemplo, a la hora de entrenar una red neuronal tiene que verse claramente un log de los resultados de cada epoch)."
      ]
    },
    {
      "cell_type": "code",
      "execution_count": null,
      "metadata": {
        "colab": {
          "base_uri": "https://localhost:8080/",
          "height": 34
        },
        "id": "VU8gdrsVG4h0",
        "outputId": "97ce2b9c-047a-4c25-c030-77a6a63b61e1"
      },
      "outputs": [
        {
          "name": "stdout",
          "output_type": "stream",
          "text": [
            "2.8.0\n"
          ]
        }
      ],
      "source": [
        "import tensorflow as tf\n",
        "print(tf.__version__)"
      ]
    },
    {
      "cell_type": "markdown",
      "metadata": {
        "id": "zScMKU2OKSPD"
      },
      "source": [
        "En primer lugar vamos a importar el dataset Fashion MNIST (recordad que este es uno de los dataset de entranamiento que estan guardados en keras) que es el que vamos a utilizar en esta actividad:"
      ]
    },
    {
      "cell_type": "code",
      "execution_count": null,
      "metadata": {
        "id": "4voG2hxxG4h3"
      },
      "outputs": [],
      "source": [
        "mnist = tf.keras.datasets.fashion_mnist"
      ]
    },
    {
      "cell_type": "markdown",
      "metadata": {
        "id": "JphLsCvgKrzb"
      },
      "source": [
        "Llamar a **load_data** en este dataset nos dará dos conjuntos de dos listas, estos serán los valores de entrenamiento y prueba para los gráficos que contienen las prendas de vestir y sus etiquetas.\n",
        "\n",
        "Nota: Aunque en esta actividad lo veis de esta forma, también lo vais a poder encontrar como 4 variables de esta forma: training_images, training_labels, test_images, test_labels = mnist.load_data()"
      ]
    },
    {
      "cell_type": "code",
      "execution_count": null,
      "metadata": {
        "id": "1muD4PHEG4h6"
      },
      "outputs": [],
      "source": [
        "(training_images, training_labels), (test_images, test_labels) = mnist.load_data()"
      ]
    },
    {
      "cell_type": "markdown",
      "metadata": {
        "id": "ZWGpJqVVLT3Y"
      },
      "source": [
        "Antes de continuar vamos a dar un vistazo a nuestro dataset, para ello vamos a ver una imagen de entrenamiento y su etiqueta o clase."
      ]
    },
    {
      "cell_type": "code",
      "execution_count": null,
      "metadata": {
        "id": "t5a5PlswG4h8",
        "outputId": "954400be-c2bb-4bdf-c4ff-96ce16e9af20"
      },
      "outputs": [
        {
          "name": "stdout",
          "output_type": "stream",
          "text": [
            "9\n",
            "[[  0   0   0   0   0   0   0   0   0   0   0   0   0   0   0   0   0   0   0   0   0   0   0   0   0   0   0   0]\n",
            " [  0   0   0   0   0   0   0   0   0   0   0   0   0   0   0   0   0   0   0   0   0   0   0   0   0   0   0   0]\n",
            " [  0   0   0   0   0   0   0   0   0   0   0   0   0   0   0   0   0   0   0   0   0   0   0   0   0   0   0   0]\n",
            " [  0   0   0   0   0   0   0   0   0   0   0   0   1   0   0  13  73   0   0   1   4   0   0   0   0   1   1   0]\n",
            " [  0   0   0   0   0   0   0   0   0   0   0   0   3   0  36 136 127  62  54   0   0   0   1   3   4   0   0   3]\n",
            " [  0   0   0   0   0   0   0   0   0   0   0   0   6   0 102 204 176 134 144 123  23   0   0   0   0  12  10   0]\n",
            " [  0   0   0   0   0   0   0   0   0   0   0   0   0   0 155 236 207 178 107 156 161 109  64  23  77 130  72  15]\n",
            " [  0   0   0   0   0   0   0   0   0   0   0   1   0  69 207 223 218 216 216 163 127 121 122 146 141  88 172  66]\n",
            " [  0   0   0   0   0   0   0   0   0   1   1   1   0 200 232 232 233 229 223 223 215 213 164 127 123 196 229   0]\n",
            " [  0   0   0   0   0   0   0   0   0   0   0   0   0 183 225 216 223 228 235 227 224 222 224 221 223 245 173   0]\n",
            " [  0   0   0   0   0   0   0   0   0   0   0   0   0 193 228 218 213 198 180 212 210 211 213 223 220 243 202   0]\n",
            " [  0   0   0   0   0   0   0   0   0   1   3   0  12 219 220 212 218 192 169 227 208 218 224 212 226 197 209  52]\n",
            " [  0   0   0   0   0   0   0   0   0   0   6   0  99 244 222 220 218 203 198 221 215 213 222 220 245 119 167  56]\n",
            " [  0   0   0   0   0   0   0   0   0   4   0   0  55 236 228 230 228 240 232 213 218 223 234 217 217 209  92   0]\n",
            " [  0   0   1   4   6   7   2   0   0   0   0   0 237 226 217 223 222 219 222 221 216 223 229 215 218 255  77   0]\n",
            " [  0   3   0   0   0   0   0   0   0  62 145 204 228 207 213 221 218 208 211 218 224 223 219 215 224 244 159   0]\n",
            " [  0   0   0   0  18  44  82 107 189 228 220 222 217 226 200 205 211 230 224 234 176 188 250 248 233 238 215   0]\n",
            " [  0  57 187 208 224 221 224 208 204 214 208 209 200 159 245 193 206 223 255 255 221 234 221 211 220 232 246   0]\n",
            " [  3 202 228 224 221 211 211 214 205 205 205 220 240  80 150 255 229 221 188 154 191 210 204 209 222 228 225   0]\n",
            " [ 98 233 198 210 222 229 229 234 249 220 194 215 217 241  65  73 106 117 168 219 221 215 217 223 223 224 229  29]\n",
            " [ 75 204 212 204 193 205 211 225 216 185 197 206 198 213 240 195 227 245 239 223 218 212 209 222 220 221 230  67]\n",
            " [ 48 203 183 194 213 197 185 190 194 192 202 214 219 221 220 236 225 216 199 206 186 181 177 172 181 205 206 115]\n",
            " [  0 122 219 193 179 171 183 196 204 210 213 207 211 210 200 196 194 191 195 191 198 192 176 156 167 177 210  92]\n",
            " [  0   0  74 189 212 191 175 172 175 181 185 188 189 188 193 198 204 209 210 210 211 188 188 194 192 216 170   0]\n",
            " [  2   0   0   0  66 200 222 237 239 242 246 243 244 221 220 193 191 179 182 182 181 176 166 168  99  58   0   0]\n",
            " [  0   0   0   0   0   0   0  40  61  44  72  41  35   0   0   0   0   0   0   0   0   0   0   0   0   0   0   0]\n",
            " [  0   0   0   0   0   0   0   0   0   0   0   0   0   0   0   0   0   0   0   0   0   0   0   0   0   0   0   0]\n",
            " [  0   0   0   0   0   0   0   0   0   0   0   0   0   0   0   0   0   0   0   0   0   0   0   0   0   0   0   0]]\n"
          ]
        },
        {
          "data": {
            "image/png": "[encoded data removed]",
            "text/plain": [
              "<Figure size 432x288 with 1 Axes>"
            ]
          },
          "metadata": {
            "needs_background": "light"
          },
          "output_type": "display_data"
        }
      ],
      "source": [
        "import numpy as np\n",
        "np.set_printoptions(linewidth=200)\n",
        "import matplotlib.pyplot as plt\n",
        "plt.imshow(training_images[0], cmap=\"gray\") # recordad que siempre es preferible trabajar en blanco y negro\n",
        "#\n",
        "print(training_labels[0])\n",
        "print(training_images[0])"
      ]
    },
    {
      "cell_type": "code",
      "execution_count": null,
      "metadata": {
        "id": "8ssfaQAxHTeA"
      },
      "outputs": [],
      "source": [
        "label_names = ['T-shirt/top', 'Trouser', 'Pullover', 'Dress', 'Coat', 'Sandal', 'Shirt', 'Sneaker', 'Bag', 'Ankle boot']"
      ]
    },
    {
      "cell_type": "code",
      "execution_count": null,
      "metadata": {
        "id": "Sew55IzBHTeB",
        "outputId": "fcd02962-0a76-450d-a043-7db66800d2fb"
      },
      "outputs": [
        {
          "data": {
            "image/png": "[encoded data removed]",
            "text/plain": [
              "<Figure size 720x720 with 25 Axes>"
            ]
          },
          "metadata": {},
          "output_type": "display_data"
        }
      ],
      "source": [
        "plt.figure(figsize = (10, 10))\n",
        "for i in range (25):\n",
        "    plt.subplot(5, 5, i + 1)\n",
        "    plt.xticks([])\n",
        "    plt.yticks([])\n",
        "    plt.grid(False)\n",
        "    plt.imshow(training_images [i], cmap = \"binary\")\n",
        "    plt.xlabel(label_names[training_labels[i]])\n",
        "plt.show()"
      ]
    },
    {
      "cell_type": "markdown",
      "metadata": {
        "id": "WCJvZx3MLucY"
      },
      "source": [
        "Habras notado que todos los valores numericos están entre 0 y 255. Si estamos entrenando una red neuronal, una buena practica es transformar todos los valores entre 0 y 1, un proceso llamado \"normalización\" y afortunadamente en Python es fácil normalizar una lista. Lo puedes hacer de esta manera:"
      ]
    },
    {
      "cell_type": "markdown",
      "metadata": {
        "id": "OLpAvdVcRlyx"
      },
      "source": []
    },
    {
      "cell_type": "code",
      "execution_count": null,
      "metadata": {
        "id": "tojL1BmjG4h_"
      },
      "outputs": [],
      "source": [
        "training_images  = training_images / 255.0\n",
        "test_images = test_images / 255.0"
      ]
    },
    {
      "cell_type": "code",
      "execution_count": null,
      "metadata": {
        "id": "9QH3_3kxHTeC",
        "outputId": "1df58303-a94b-40d6-da46-d339f5965785"
      },
      "outputs": [
        {
          "data": {
            "text/plain": [
              "array([[[0., 0., 0., ..., 0., 0., 0.],\n",
              "        [0., 0., 0., ..., 0., 0., 0.],\n",
              "        [0., 0., 0., ..., 0., 0., 0.],\n",
              "        ...,\n",
              "        [0., 0., 0., ..., 0., 0., 0.],\n",
              "        [0., 0., 0., ..., 0., 0., 0.],\n",
              "        [0., 0., 0., ..., 0., 0., 0.]],\n",
              "\n",
              "       [[0., 0., 0., ..., 0., 0., 0.],\n",
              "        [0., 0., 0., ..., 0., 0., 0.],\n",
              "        [0., 0., 0., ..., 0., 0., 0.],\n",
              "        ...,\n",
              "        [0., 0., 0., ..., 0., 0., 0.],\n",
              "        [0., 0., 0., ..., 0., 0., 0.],\n",
              "        [0., 0., 0., ..., 0., 0., 0.]],\n",
              "\n",
              "       [[0., 0., 0., ..., 0., 0., 0.],\n",
              "        [0., 0., 0., ..., 0., 0., 0.],\n",
              "        [0., 0., 0., ..., 0., 0., 0.],\n",
              "        ...,\n",
              "        [0., 0., 0., ..., 0., 0., 0.],\n",
              "        [0., 0., 0., ..., 0., 0., 0.],\n",
              "        [0., 0., 0., ..., 0., 0., 0.]],\n",
              "\n",
              "       ...,\n",
              "\n",
              "       [[0., 0., 0., ..., 0., 0., 0.],\n",
              "        [0., 0., 0., ..., 0., 0., 0.],\n",
              "        [0., 0., 0., ..., 0., 0., 0.],\n",
              "        ...,\n",
              "        [0., 0., 0., ..., 0., 0., 0.],\n",
              "        [0., 0., 0., ..., 0., 0., 0.],\n",
              "        [0., 0., 0., ..., 0., 0., 0.]],\n",
              "\n",
              "       [[0., 0., 0., ..., 0., 0., 0.],\n",
              "        [0., 0., 0., ..., 0., 0., 0.],\n",
              "        [0., 0., 0., ..., 0., 0., 0.],\n",
              "        ...,\n",
              "        [0., 0., 0., ..., 0., 0., 0.],\n",
              "        [0., 0., 0., ..., 0., 0., 0.],\n",
              "        [0., 0., 0., ..., 0., 0., 0.]],\n",
              "\n",
              "       [[0., 0., 0., ..., 0., 0., 0.],\n",
              "        [0., 0., 0., ..., 0., 0., 0.],\n",
              "        [0., 0., 0., ..., 0., 0., 0.],\n",
              "        ...,\n",
              "        [0., 0., 0., ..., 0., 0., 0.],\n",
              "        [0., 0., 0., ..., 0., 0., 0.],\n",
              "        [0., 0., 0., ..., 0., 0., 0.]]])"
            ]
          },
          "execution_count": 9,
          "metadata": {},
          "output_type": "execute_result"
        }
      ],
      "source": [
        "training_images"
      ]
    },
    {
      "cell_type": "markdown",
      "metadata": {
        "id": "yYUWWsszMAKt"
      },
      "source": [
        "Ahora vamos a definir el modelo, pero antes vamos a repasar algunos comandos y conceptos muy utiles:\n",
        "* **Sequential**: Eso define una SECUENCIA de capas en la red neuronal\n",
        "* **Dense**: Añade una capa de neuronas\n",
        "* **Flatten**: ¿Recuerdas que las imágenes cómo eran las imagenes cuando las imprimiste para poder verlas? Un cuadrado, Flatten sólo toma ese cuadrado y lo convierte en un vector de una dimensión.\n",
        "\n",
        "Cada capa de neuronas necesita una función de activación. Normalmente se usa la función relu en las capas intermedias y softmax en la ultima capa\n",
        "* **Relu** significa que \"Si X>0 devuelve X, si no, devuelve 0\", así que lo que hace es pasar sólo valores 0 o mayores a la siguiente capa de la red.\n",
        "* **Softmax** toma un conjunto de valores, y escoge el más grande."
      ]
    },
    {
      "cell_type": "markdown",
      "metadata": {
        "id": "QgBW1yE2MwPp"
      },
      "source": [
        " **Pregunta 1 (3.5 puntos)**. Utilizando Keras, y preparando los datos de X e y como fuera necesario, define y entrena una red neuronal que sea capaz de clasificar imágenes de Fashion MNIST con las siguientes características:\n",
        "\n",
        "* Una hidden layer de tamaños 128, utilizando unidades sigmoid\n",
        "Optimizador Adam.\n",
        "* Durante el entrenamiento, la red tiene que mostrar resultados de loss y accuracy por cada epoch.\n",
        "* La red debe entrenar durante 10 epochs y batch size de 64.\n",
        "* La última capa debe de ser una capa softmax.\n",
        "* Tu red tendría que ser capaz de superar fácilmente 80% de accuracy."
      ]
    },
    {
      "cell_type": "markdown",
      "metadata": {
        "id": "tg0QEbjOHTeD"
      },
      "source": [
        "## Previo a la revisión, es importante destacar que:\n",
        "\n",
        "### En el siguiente bloque se declara el modelo de entrenamiento de redes neuronales, este mismo modelo llamado \"model\" se puede llamar en bloques siguientes, pero se decide hacer modelos individuales con el fin de practicar la sintáxis de la librería de Keras, se tiene presente que se está trabajando doble por lo mencionado anteriormente, esto es una decisión personal. \n",
        "### Los modelos no afectan el rendimiento del código, pero si lo hace un poco mas extenso."
      ]
    },
    {
      "cell_type": "code",
      "execution_count": null,
      "metadata": {
        "id": "aTaD2QXIORwu",
        "outputId": "7c110be4-403e-400b-b4dc-02cdd021910d"
      },
      "outputs": [
        {
          "name": "stdout",
          "output_type": "stream",
          "text": [
            "Model: \"sequential\"\n",
            "_________________________________________________________________\n",
            " Layer (type)                Output Shape              Param #   \n",
            "=================================================================\n",
            " flatten (Flatten)           (None, 784)               0         \n",
            "                                                                 \n",
            " dense (Dense)               (None, 128)               100480    \n",
            "                                                                 \n",
            " dense_1 (Dense)             (None, 50)                6450      \n",
            "                                                                 \n",
            " dense_2 (Dense)             (None, 10)                510       \n",
            "                                                                 \n",
            "=================================================================\n",
            "Total params: 107,440\n",
            "Trainable params: 107,440\n",
            "Non-trainable params: 0\n",
            "_________________________________________________________________\n",
            "Epoch 1/10\n",
            "938/938 [==============================] - 2s 1ms/step - loss: 0.5839 - accuracy: 0.8007\n",
            "Epoch 2/10\n",
            "938/938 [==============================] - 1s 1ms/step - loss: 0.3985 - accuracy: 0.8553\n",
            "Epoch 3/10\n",
            "938/938 [==============================] - 1s 1ms/step - loss: 0.3633 - accuracy: 0.8683\n",
            "Epoch 4/10\n",
            "938/938 [==============================] - 1s 1ms/step - loss: 0.3385 - accuracy: 0.8760\n",
            "Epoch 5/10\n",
            "938/938 [==============================] - 1s 1ms/step - loss: 0.3205 - accuracy: 0.8837\n",
            "Epoch 6/10\n",
            "938/938 [==============================] - 1s 1ms/step - loss: 0.3057 - accuracy: 0.8874\n",
            "Epoch 7/10\n",
            "938/938 [==============================] - 1s 1ms/step - loss: 0.2914 - accuracy: 0.8916\n",
            "Epoch 8/10\n",
            "938/938 [==============================] - 1s 1ms/step - loss: 0.2812 - accuracy: 0.8960\n",
            "Epoch 9/10\n",
            "938/938 [==============================] - 1s 1ms/step - loss: 0.2716 - accuracy: 0.8996\n",
            "Epoch 10/10\n",
            "938/938 [==============================] - 1s 1ms/step - loss: 0.2610 - accuracy: 0.9031\n"
          ]
        },
        {
          "data": {
            "text/plain": [
              "<keras.callbacks.History at 0x1b0b33d1c70>"
            ]
          },
          "execution_count": 10,
          "metadata": {},
          "output_type": "execute_result"
        }
      ],
      "source": [
        "from tensorflow import keras\n",
        "from keras.models import Sequential\n",
        "from keras.layers import Dense\n",
        "\n",
        "X = training_images\n",
        "y = training_labels\n",
        " \n",
        "    #Modelado de red neuronal\n",
        "model = keras.Sequential([keras.layers.Flatten(input_shape = (28, 28)),\n",
        "                         keras.layers.Dense(128, activation = \"sigmoid\"),\n",
        "                         keras.layers.Dense(50, activation = \"relu\"),\n",
        "                         keras.layers.Dense(10, activation = \"softmax\")])\n",
        " \n",
        "     #Resultados de loss y accuracy\n",
        "model.compile(optimizer = \"adam\", loss = \"sparse_categorical_crossentropy\", metrics = [\"accuracy\"])\n",
        " \n",
        "    #Resumen de la configuracion de nuestra red neuronal\n",
        "model.summary()\n",
        "\n",
        "    #epoch \n",
        "model.fit(X, y, epochs = 10, batch_size = 64)\n"
      ]
    },
    {
      "cell_type": "markdown",
      "metadata": {
        "id": "Bxr5hTKYOQnK"
      },
      "source": [
        "Para concluir el entrenamiento de la red neuronal, una buena practica es evaluar el modelo para ver si la precisión de entrenamiento es real\n",
        "\n",
        "**pregunta 2 (0.5 puntos)**: evalua el modelo con las imagenes y etiquetas test."
      ]
    },
    {
      "cell_type": "code",
      "execution_count": null,
      "metadata": {
        "id": "VNjQEtUUG4iI",
        "outputId": "03d7a9bd-313d-4258-9d48-d4dc9a265e1c"
      },
      "outputs": [
        {
          "name": "stdout",
          "output_type": "stream",
          "text": [
            "313/313 - 0s - loss: 0.3320 - accuracy: 0.8809 - 310ms/epoch - 991us/step\n",
            "Evaluación de modelo 0.8809000253677368\n"
          ]
        }
      ],
      "source": [
        "loss_t , accuracy_t = model.evaluate(test_images, test_labels, verbose = 2)\n",
        "\n",
        "print(\"Evaluación de modelo\", accuracy_t)"
      ]
    },
    {
      "cell_type": "markdown",
      "metadata": {
        "id": "ygMVnmSYO83U"
      },
      "source": [
        "Ahora vamos a explorar el código con una serie de ejercicios para alcanzar un grado de comprensión mayor sobre las redes neuronales y su entrenamiento.\n",
        "\n",
        "# **Ejercicio 1: Funcionamiento de las predicción de la red neuronal**\n",
        "\n",
        "Para este primer ejercicio sigue los siguientes pasos: \n",
        "\n",
        "* Crea una variable llamada **classifications** para construir un clasificador para las imágenes de prueba, para ello puedes utilizar la función predict sobre el conjunto de test\n",
        "* Imprime con la función print la primera entrada en las clasificaciones. \n",
        "\n",
        "**pregunta 3.1 (0.25 puntos)**, el resultado al imprimirlo es un vector de números, \n",
        "* ¿Por qué crees que ocurre esto, y qué representa este vector de números?\n",
        "\n",
        "**pregunta 3.2 (0.25 puntos)**\n",
        "* ¿Cúal es la clase de la primera entrada#  de la variable **classifications**? La respuesta puede ser un número o su etiqueta/clase equivalente."
      ]
    },
    {
      "cell_type": "code",
      "execution_count": null,
      "metadata": {
        "id": "b-mL-h4xQhCm",
        "outputId": "5f14dd5b-8fa8-4282-9b7d-bc9c00f5a0ed"
      },
      "outputs": [
        {
          "data": {
            "text/plain": [
              "array([4.5726515e-06, 2.0464754e-06, 9.4101433e-06, 2.4636865e-05, 1.1516092e-06, 9.4477935e-03, 1.5173217e-04, 2.0048631e-02, 2.5748321e-05, 9.7028422e-01], dtype=float32)"
            ]
          },
          "execution_count": 12,
          "metadata": {},
          "output_type": "execute_result"
        }
      ],
      "source": [
        "classifications = model.predict(test_images)\n",
        "classifications[0]\n"
      ]
    },
    {
      "cell_type": "markdown",
      "metadata": {
        "id": "pvbVC9gaQhMY"
      },
      "source": [
        "Tu respuesta a la pregunta 3.1 aquí:\n",
        "\n",
        "#### Es una representación numérica del nivel de exactitud o precisión al \"catalogar los datos\", estos valores no los podemoss interpretar, por ello se puede usar la función de numpy \"argmax\", que transforma los valores y nos da el valor más alto de los números que arroja la predicción haciendo que nos de el número de etiqueta a la cual pertenece. "
      ]
    },
    {
      "cell_type": "markdown",
      "metadata": {
        "id": "oRWo-75tdgv0"
      },
      "source": [
        "Tu respuesta a la pregunta 3.2 aquí:\n",
        "\n",
        "#### Complementando la respuesta anterior, el valor que nos da es 9 o la etiqueta \"Ankle boot\".\n"
      ]
    },
    {
      "cell_type": "code",
      "execution_count": null,
      "metadata": {
        "id": "TWvrPwm5HTeF"
      },
      "outputs": [],
      "source": [
        "#En el siguiente bloque de código se ejecuta las respuestas para comprobar."
      ]
    },
    {
      "cell_type": "code",
      "execution_count": null,
      "metadata": {
        "id": "k-GpwIADHTeF",
        "outputId": "4c006189-ece9-45e2-cc96-4bda6288ef9c"
      },
      "outputs": [
        {
          "name": "stdout",
          "output_type": "stream",
          "text": [
            "Primera entradade classifications:  9\n",
            "Etiqueta:  Ankle boot\n"
          ]
        }
      ],
      "source": [
        "print(\"Primera entradade classifications: \", np.argmax(classifications[0]))\n",
        "print(\"Etiqueta: \", label_names[9])"
      ]
    },
    {
      "cell_type": "markdown",
      "metadata": {
        "id": "hiQ8qAzhRQ4L"
      },
      "source": [
        "# **Ejercicio 2: Impacto variar el número de neuronas en las capas ocultas**\n",
        "\n",
        "En este ejercicio vamos a experimentar con nuestra red neuronal cambiando el numero de neuronas por 512 y por 1024. Para ello, utiliza la red neuronal de la pregunta 1, y su capa oculta cambia las 128 neuronas:\n",
        "\n",
        "* **pregunta 4.1 (0.25 puntos)**: 512 neuronas en la capa oculta\n",
        "* **pregunta 4.2 (0.25 puntos)**:1024 neuronas en la capa oculta\n",
        "\n",
        "y entrena la red en ambos casos.\n",
        "\n",
        "**pregunta 4.3 (0.5 puntos)**: ¿Cual es el impacto que tiene la red neuronal?"
      ]
    },
    {
      "cell_type": "code",
      "execution_count": null,
      "metadata": {
        "id": "cdP8ZwuaUV93",
        "outputId": "276b8627-bbc6-4e06-d522-9a40895878c2"
      },
      "outputs": [
        {
          "name": "stdout",
          "output_type": "stream",
          "text": [
            "Epoch 1/10\n",
            "938/938 [==============================] - 5s 5ms/step - loss: 0.5466 - accuracy: 0.8063\n",
            "Epoch 2/10\n",
            "938/938 [==============================] - 4s 4ms/step - loss: 0.3927 - accuracy: 0.8563\n",
            "Epoch 3/10\n",
            "938/938 [==============================] - 4s 4ms/step - loss: 0.3509 - accuracy: 0.8710\n",
            "Epoch 4/10\n",
            "938/938 [==============================] - 4s 4ms/step - loss: 0.3213 - accuracy: 0.8813\n",
            "Epoch 5/10\n",
            "938/938 [==============================] - 4s 4ms/step - loss: 0.3020 - accuracy: 0.8879\n",
            "Epoch 6/10\n",
            "938/938 [==============================] - 4s 4ms/step - loss: 0.2823 - accuracy: 0.8948\n",
            "Epoch 7/10\n",
            "938/938 [==============================] - 4s 4ms/step - loss: 0.2682 - accuracy: 0.8994\n",
            "Epoch 8/10\n",
            "938/938 [==============================] - 4s 4ms/step - loss: 0.2539 - accuracy: 0.9046\n",
            "Epoch 9/10\n",
            "938/938 [==============================] - 4s 4ms/step - loss: 0.2408 - accuracy: 0.9094\n",
            "Epoch 10/10\n",
            "938/938 [==============================] - 4s 4ms/step - loss: 0.2285 - accuracy: 0.9134\n"
          ]
        },
        {
          "data": {
            "text/plain": [
              "<keras.callbacks.History at 0x1b0b7e91b20>"
            ]
          },
          "execution_count": 15,
          "metadata": {},
          "output_type": "execute_result"
        }
      ],
      "source": [
        "\n",
        "\n",
        "model_2 = keras.Sequential([keras.layers.Flatten(input_shape = (28, 28)),\n",
        "                           keras.layers.Dense(512, activation = \"sigmoid\"),\n",
        "                           keras.layers.Dense(250, activation = \"relu\"),\n",
        "                           keras.layers.Dense(90, activation = \"softmax\")])\n",
        "\n",
        "model_2.compile(optimizer = \"adam\", loss = \"sparse_categorical_crossentropy\", metrics = [\"accuracy\"])\n",
        "model_2.fit(X, y, epochs = 10, batch_size = 64)"
      ]
    },
    {
      "cell_type": "code",
      "execution_count": null,
      "metadata": {
        "id": "YXBlbbfuUaPa",
        "outputId": "af404f49-fdfd-4f2e-9810-a6e73181f527"
      },
      "outputs": [
        {
          "name": "stdout",
          "output_type": "stream",
          "text": [
            "Epoch 1/10\n",
            "938/938 [==============================] - 10s 10ms/step - loss: 0.5475 - accuracy: 0.8030\n",
            "Epoch 2/10\n",
            "938/938 [==============================] - 10s 11ms/step - loss: 0.3920 - accuracy: 0.8583\n",
            "Epoch 3/10\n",
            "938/938 [==============================] - 10s 11ms/step - loss: 0.3497 - accuracy: 0.8727\n",
            "Epoch 4/10\n",
            "938/938 [==============================] - 10s 11ms/step - loss: 0.3213 - accuracy: 0.8807\n",
            "Epoch 5/10\n",
            "938/938 [==============================] - 10s 11ms/step - loss: 0.2945 - accuracy: 0.8908\n",
            "Epoch 6/10\n",
            "938/938 [==============================] - 10s 11ms/step - loss: 0.2756 - accuracy: 0.8963\n",
            "Epoch 7/10\n",
            "938/938 [==============================] - 10s 11ms/step - loss: 0.2625 - accuracy: 0.9006\n",
            "Epoch 8/10\n",
            "938/938 [==============================] - 10s 11ms/step - loss: 0.2469 - accuracy: 0.9073\n",
            "Epoch 9/10\n",
            "938/938 [==============================] - 10s 11ms/step - loss: 0.2314 - accuracy: 0.9124\n",
            "Epoch 10/10\n",
            "938/938 [==============================] - 10s 11ms/step - loss: 0.2195 - accuracy: 0.9161\n"
          ]
        },
        {
          "data": {
            "text/plain": [
              "<keras.callbacks.History at 0x1b0b7ac1e80>"
            ]
          },
          "execution_count": 16,
          "metadata": {},
          "output_type": "execute_result"
        }
      ],
      "source": [
        "model_3 = keras.Sequential([keras.layers.Flatten(input_shape = (28, 28)),\n",
        "                           keras.layers.Dense(1024, activation = \"sigmoid\"),\n",
        "                           keras.layers.Dense(512, activation = \"relu\"),\n",
        "                           keras.layers.Dense(261, activation = \"softmax\")])\n",
        "model_3.compile(optimizer = \"adam\", loss = \"sparse_categorical_crossentropy\", metrics = [\"accuracy\"])\n",
        "model_3.fit(X, y, epochs = 10, batch_size = 64)"
      ]
    },
    {
      "cell_type": "markdown",
      "metadata": {
        "id": "wG0h2HL-Uj93"
      },
      "source": [
        "Tu respuesta a la pregunta 4.3 aquí:\n",
        "\n",
        "#### La red neuronal entrena los datos para obtener una clasificación de las imagenes con respecto a las etiquetas dadas, el número de neuronas y capas que se le declaren, puede ayudar o no a obtener mejores resultados, es decir, al declarar más neuronas y capas ocultas, no necesariamente obtendremos un mejor rendimiento, por las funciones de activación nos pueden dar mejores resultados."
      ]
    },
    {
      "cell_type": "markdown",
      "metadata": {
        "id": "b-NpUI9EVkVz"
      },
      "source": [
        "Si ahora entrenais el modelo de esta forma (con 512 y 1024 neuronas en la capa oculta) y volveis a ejecutar el predictor guardado en la variable **classifications**, escribir el código del clasificador del ejercicio 1 de nuevo e imprimid el primer objeto guardado en la variable classifications.\n",
        "\n",
        "**pregunta 5.1 (0.25 puntos)**: \n",
        "\n",
        "* ¿En que clase esta clasificado ahora la primera prenda de vestir de la variable classifications?\n",
        "\n",
        "**pregunta 5.1 (0.25 puntos)**: \n",
        "\n",
        "* ¿Porque crees que ha ocurrido esto?"
      ]
    },
    {
      "cell_type": "code",
      "execution_count": null,
      "metadata": {
        "id": "RdJHl3V-G4iS",
        "outputId": "84ca12d3-42d3-4523-95ef-17fc24614dc5"
      },
      "outputs": [
        {
          "data": {
            "text/plain": [
              "array([1.3723943e-06, 5.0214197e-07, 4.0355342e-08, 2.5541604e-07, 6.7846216e-08, 4.0428227e-04, 9.7631164e-07, 3.3681051e-04, 4.0529264e-09, 9.9925560e-01, 2.5204421e-14, 1.3950088e-14,\n",
              "       9.3326564e-15, 9.1704242e-15, 1.7264476e-14, 2.9650751e-14, 1.2949797e-14, 4.0107742e-14, 8.9095682e-14, 2.5938612e-14, 1.5750879e-14, 2.9119651e-14, 9.1791429e-14, 2.3756616e-14,\n",
              "       2.1472959e-14, 2.9441788e-14, 4.6566280e-14, 2.4808740e-14, 3.8323670e-14, 3.6278584e-14, 1.1650400e-14, 4.3373261e-14, 2.6883447e-14, 3.3215370e-14, 1.5876957e-14, 1.0189497e-13,\n",
              "       2.1861507e-14, 4.0609013e-14, 9.0401387e-15, 4.2533536e-14, 4.0324670e-14, 2.4182240e-14, 4.5792255e-14, 5.1022046e-14, 1.0973886e-14, 3.8332296e-14, 4.4736767e-14, 4.1671582e-14,\n",
              "       2.8081014e-14, 1.7794853e-14, 6.4987898e-14, 9.4212276e-14, 6.2436533e-14, 6.5329171e-14, 2.4219169e-14, 1.2642723e-14, 3.8283199e-14, 5.5297143e-14, 3.1060088e-14, 2.5213748e-14,\n",
              "       6.0582317e-14, 3.6723036e-14, 4.0882106e-14, 5.3708394e-14, 6.5334653e-14, 8.3472536e-14, 3.8053873e-14, 2.8985224e-14, 2.5170599e-14, 2.4093385e-14, 1.9307952e-14, 2.3546577e-14,\n",
              "       5.0438972e-14, 1.8900586e-14, 6.7232949e-14, 1.1166020e-14, 8.1404955e-14, 4.2779897e-14, 1.3003804e-14, 3.2507881e-14, 7.9536502e-14, 2.6564873e-14, 3.6657949e-14, 1.0014350e-14,\n",
              "       4.4744786e-14, 3.8333757e-14, 1.6748313e-14, 1.6535708e-14, 6.3912265e-15, 1.2103049e-13], dtype=float32)"
            ]
          },
          "execution_count": 17,
          "metadata": {},
          "output_type": "execute_result"
        }
      ],
      "source": [
        "classifications = model_2.predict(test_images)\n",
        "classifications[0]"
      ]
    },
    {
      "cell_type": "code",
      "execution_count": null,
      "metadata": {
        "id": "gzB7qGXJHTeH",
        "outputId": "4cc247fa-564f-4e14-d0ca-ba80c5590e22"
      },
      "outputs": [
        {
          "name": "stdout",
          "output_type": "stream",
          "text": [
            "Primera entradade classifications:  9\n",
            "Etiqueta:  Ankle boot\n"
          ]
        }
      ],
      "source": [
        "print(\"Primera entradade classifications: \", np.argmax(classifications[0]))\n",
        "print(\"Etiqueta: \", label_names[9])"
      ]
    },
    {
      "cell_type": "markdown",
      "metadata": {
        "id": "P3NfwdOGZcAa"
      },
      "source": [
        "Tu respuesta a la pregunta 5.1 aquí:\n",
        "\n",
        "#### Ankle boot"
      ]
    },
    {
      "cell_type": "markdown",
      "metadata": {
        "id": "nFmfpxE1ZcJx"
      },
      "source": [
        "Tu respuesta a la pregunta 5.2 aquí:\n",
        "\n",
        "#### Genera una clasificación en base a los datos de entrenamiento y busca una mayor semejanza con los demás datos, encontrando dicha coicidencia con la etiqueta \"Ankle boot\""
      ]
    },
    {
      "cell_type": "markdown",
      "metadata": {
        "id": "59eM76O1YekZ"
      },
      "source": [
        "# **Ejercicio 3: ¿por qué es tan importante la capa Flatten?**\n",
        "\n",
        "En este ejercicio vamos a ver que ocurre cuando quitamos la capa flatten, para ello, escribe la red neuronal de la pregunta 1 y no pongas la capa Flatten.\n",
        "\n",
        "**pregunta 6 (0.5 puntos):** ¿puedes explicar porque da el error que da?\n",
        "\n"
      ]
    },
    {
      "cell_type": "code",
      "execution_count": null,
      "metadata": {
        "id": "ecfEVKEuG4iU",
        "outputId": "1cad7e29-89ed-473a-ada1-bb19fbca89d3",
        "scrolled": false
      },
      "outputs": [
        {
          "name": "stdout",
          "output_type": "stream",
          "text": [
            "Epoch 1/10\n"
          ]
        },
        {
          "ename": "InvalidArgumentError",
          "evalue": "Graph execution error:\n\nDetected at node 'sparse_categorical_crossentropy/SparseSoftmaxCrossEntropyWithLogits/SparseSoftmaxCrossEntropyWithLogits' defined at (most recent call last):\n    File \"C:\\Users\\Giovanni\\anaconda3\\lib\\runpy.py\", line 197, in _run_module_as_main\n      return _run_code(code, main_globals, None,\n    File \"C:\\Users\\Giovanni\\anaconda3\\lib\\runpy.py\", line 87, in _run_code\n      exec(code, run_globals)\n    File \"C:\\Users\\Giovanni\\anaconda3\\lib\\site-packages\\ipykernel_launcher.py\", line 16, in <module>\n      app.launch_new_instance()\n    File \"C:\\Users\\Giovanni\\anaconda3\\lib\\site-packages\\traitlets\\config\\application.py\", line 846, in launch_instance\n      app.start()\n    File \"C:\\Users\\Giovanni\\anaconda3\\lib\\site-packages\\ipykernel\\kernelapp.py\", line 677, in start\n      self.io_loop.start()\n    File \"C:\\Users\\Giovanni\\anaconda3\\lib\\site-packages\\tornado\\platform\\asyncio.py\", line 199, in start\n      self.asyncio_loop.run_forever()\n    File \"C:\\Users\\Giovanni\\anaconda3\\lib\\asyncio\\base_events.py\", line 596, in run_forever\n      self._run_once()\n    File \"C:\\Users\\Giovanni\\anaconda3\\lib\\asyncio\\base_events.py\", line 1890, in _run_once\n      handle._run()\n    File \"C:\\Users\\Giovanni\\anaconda3\\lib\\asyncio\\events.py\", line 80, in _run\n      self._context.run(self._callback, *self._args)\n    File \"C:\\Users\\Giovanni\\anaconda3\\lib\\site-packages\\ipykernel\\kernelbase.py\", line 457, in dispatch_queue\n      await self.process_one()\n    File \"C:\\Users\\Giovanni\\anaconda3\\lib\\site-packages\\ipykernel\\kernelbase.py\", line 446, in process_one\n      await dispatch(*args)\n    File \"C:\\Users\\Giovanni\\anaconda3\\lib\\site-packages\\ipykernel\\kernelbase.py\", line 353, in dispatch_shell\n      await result\n    File \"C:\\Users\\Giovanni\\anaconda3\\lib\\site-packages\\ipykernel\\kernelbase.py\", line 648, in execute_request\n      reply_content = await reply_content\n    File \"C:\\Users\\Giovanni\\anaconda3\\lib\\site-packages\\ipykernel\\ipkernel.py\", line 353, in do_execute\n      res = shell.run_cell(code, store_history=store_history, silent=silent)\n    File \"C:\\Users\\Giovanni\\anaconda3\\lib\\site-packages\\ipykernel\\zmqshell.py\", line 533, in run_cell\n      return super(ZMQInteractiveShell, self).run_cell(*args, **kwargs)\n    File \"C:\\Users\\Giovanni\\anaconda3\\lib\\site-packages\\IPython\\core\\interactiveshell.py\", line 2901, in run_cell\n      result = self._run_cell(\n    File \"C:\\Users\\Giovanni\\anaconda3\\lib\\site-packages\\IPython\\core\\interactiveshell.py\", line 2947, in _run_cell\n      return runner(coro)\n    File \"C:\\Users\\Giovanni\\anaconda3\\lib\\site-packages\\IPython\\core\\async_helpers.py\", line 68, in _pseudo_sync_runner\n      coro.send(None)\n    File \"C:\\Users\\Giovanni\\anaconda3\\lib\\site-packages\\IPython\\core\\interactiveshell.py\", line 3172, in run_cell_async\n      has_raised = await self.run_ast_nodes(code_ast.body, cell_name,\n    File \"C:\\Users\\Giovanni\\anaconda3\\lib\\site-packages\\IPython\\core\\interactiveshell.py\", line 3364, in run_ast_nodes\n      if (await self.run_code(code, result,  async_=asy)):\n    File \"C:\\Users\\Giovanni\\anaconda3\\lib\\site-packages\\IPython\\core\\interactiveshell.py\", line 3444, in run_code\n      exec(code_obj, self.user_global_ns, self.user_ns)\n    File \"C:\\Users\\Giovanni\\AppData\\Local\\Temp/ipykernel_7052/3599823103.py\", line 6, in <module>\n      model_3.fit(X, y, epochs = 10, batch_size = 64)\n    File \"C:\\Users\\Giovanni\\anaconda3\\lib\\site-packages\\keras\\utils\\traceback_utils.py\", line 64, in error_handler\n      return fn(*args, **kwargs)\n    File \"C:\\Users\\Giovanni\\anaconda3\\lib\\site-packages\\keras\\engine\\training.py\", line 1384, in fit\n      tmp_logs = self.train_function(iterator)\n    File \"C:\\Users\\Giovanni\\anaconda3\\lib\\site-packages\\keras\\engine\\training.py\", line 1021, in train_function\n      return step_function(self, iterator)\n    File \"C:\\Users\\Giovanni\\anaconda3\\lib\\site-packages\\keras\\engine\\training.py\", line 1010, in step_function\n      outputs = model.distribute_strategy.run(run_step, args=(data,))\n    File \"C:\\Users\\Giovanni\\anaconda3\\lib\\site-packages\\keras\\engine\\training.py\", line 1000, in run_step\n      outputs = model.train_step(data)\n    File \"C:\\Users\\Giovanni\\anaconda3\\lib\\site-packages\\keras\\engine\\training.py\", line 860, in train_step\n      loss = self.compute_loss(x, y, y_pred, sample_weight)\n    File \"C:\\Users\\Giovanni\\anaconda3\\lib\\site-packages\\keras\\engine\\training.py\", line 918, in compute_loss\n      return self.compiled_loss(\n    File \"C:\\Users\\Giovanni\\anaconda3\\lib\\site-packages\\keras\\engine\\compile_utils.py\", line 201, in __call__\n      loss_value = loss_obj(y_t, y_p, sample_weight=sw)\n    File \"C:\\Users\\Giovanni\\anaconda3\\lib\\site-packages\\keras\\losses.py\", line 141, in __call__\n      losses = call_fn(y_true, y_pred)\n    File \"C:\\Users\\Giovanni\\anaconda3\\lib\\site-packages\\keras\\losses.py\", line 245, in call\n      return ag_fn(y_true, y_pred, **self._fn_kwargs)\n    File \"C:\\Users\\Giovanni\\anaconda3\\lib\\site-packages\\keras\\losses.py\", line 1862, in sparse_categorical_crossentropy\n      return backend.sparse_categorical_crossentropy(\n    File \"C:\\Users\\Giovanni\\anaconda3\\lib\\site-packages\\keras\\backend.py\", line 5202, in sparse_categorical_crossentropy\n      res = tf.nn.sparse_softmax_cross_entropy_with_logits(\nNode: 'sparse_categorical_crossentropy/SparseSoftmaxCrossEntropyWithLogits/SparseSoftmaxCrossEntropyWithLogits'\nlogits and labels must have the same first dimension, got logits shape [1792,10] and labels shape [64]\n\t [[{{node sparse_categorical_crossentropy/SparseSoftmaxCrossEntropyWithLogits/SparseSoftmaxCrossEntropyWithLogits}}]] [Op:__inference_train_function_119033]",
          "output_type": "error",
          "traceback": [
            "\u001b[1;31m---------------------------------------------------------------------------\u001b[0m",
            "\u001b[1;31mInvalidArgumentError\u001b[0m                      Traceback (most recent call last)",
            "\u001b[1;32m~\\AppData\\Local\\Temp/ipykernel_7052/3599823103.py\u001b[0m in \u001b[0;36m<module>\u001b[1;34m\u001b[0m\n\u001b[0;32m      4\u001b[0m \u001b[1;33m\u001b[0m\u001b[0m\n\u001b[0;32m      5\u001b[0m \u001b[0mmodel_3\u001b[0m\u001b[1;33m.\u001b[0m\u001b[0mcompile\u001b[0m\u001b[1;33m(\u001b[0m\u001b[0moptimizer\u001b[0m \u001b[1;33m=\u001b[0m \u001b[1;34m\"adam\"\u001b[0m\u001b[1;33m,\u001b[0m \u001b[0mloss\u001b[0m \u001b[1;33m=\u001b[0m \u001b[1;34m\"sparse_categorical_crossentropy\"\u001b[0m\u001b[1;33m,\u001b[0m \u001b[0mmetrics\u001b[0m \u001b[1;33m=\u001b[0m \u001b[1;33m[\u001b[0m\u001b[1;34m\"accuracy\"\u001b[0m\u001b[1;33m]\u001b[0m\u001b[1;33m)\u001b[0m\u001b[1;33m\u001b[0m\u001b[1;33m\u001b[0m\u001b[0m\n\u001b[1;32m----> 6\u001b[1;33m \u001b[0mmodel_3\u001b[0m\u001b[1;33m.\u001b[0m\u001b[0mfit\u001b[0m\u001b[1;33m(\u001b[0m\u001b[0mX\u001b[0m\u001b[1;33m,\u001b[0m \u001b[0my\u001b[0m\u001b[1;33m,\u001b[0m \u001b[0mepochs\u001b[0m \u001b[1;33m=\u001b[0m \u001b[1;36m10\u001b[0m\u001b[1;33m,\u001b[0m \u001b[0mbatch_size\u001b[0m \u001b[1;33m=\u001b[0m \u001b[1;36m64\u001b[0m\u001b[1;33m)\u001b[0m\u001b[1;33m\u001b[0m\u001b[1;33m\u001b[0m\u001b[0m\n\u001b[0m",
            "\u001b[1;32m~\\anaconda3\\lib\\site-packages\\keras\\utils\\traceback_utils.py\u001b[0m in \u001b[0;36merror_handler\u001b[1;34m(*args, **kwargs)\u001b[0m\n\u001b[0;32m     65\u001b[0m     \u001b[1;32mexcept\u001b[0m \u001b[0mException\u001b[0m \u001b[1;32mas\u001b[0m \u001b[0me\u001b[0m\u001b[1;33m:\u001b[0m  \u001b[1;31m# pylint: disable=broad-except\u001b[0m\u001b[1;33m\u001b[0m\u001b[1;33m\u001b[0m\u001b[0m\n\u001b[0;32m     66\u001b[0m       \u001b[0mfiltered_tb\u001b[0m \u001b[1;33m=\u001b[0m \u001b[0m_process_traceback_frames\u001b[0m\u001b[1;33m(\u001b[0m\u001b[0me\u001b[0m\u001b[1;33m.\u001b[0m\u001b[0m__traceback__\u001b[0m\u001b[1;33m)\u001b[0m\u001b[1;33m\u001b[0m\u001b[1;33m\u001b[0m\u001b[0m\n\u001b[1;32m---> 67\u001b[1;33m       \u001b[1;32mraise\u001b[0m \u001b[0me\u001b[0m\u001b[1;33m.\u001b[0m\u001b[0mwith_traceback\u001b[0m\u001b[1;33m(\u001b[0m\u001b[0mfiltered_tb\u001b[0m\u001b[1;33m)\u001b[0m \u001b[1;32mfrom\u001b[0m \u001b[1;32mNone\u001b[0m\u001b[1;33m\u001b[0m\u001b[1;33m\u001b[0m\u001b[0m\n\u001b[0m\u001b[0;32m     68\u001b[0m     \u001b[1;32mfinally\u001b[0m\u001b[1;33m:\u001b[0m\u001b[1;33m\u001b[0m\u001b[1;33m\u001b[0m\u001b[0m\n\u001b[0;32m     69\u001b[0m       \u001b[1;32mdel\u001b[0m \u001b[0mfiltered_tb\u001b[0m\u001b[1;33m\u001b[0m\u001b[1;33m\u001b[0m\u001b[0m\n",
            "\u001b[1;32m~\\anaconda3\\lib\\site-packages\\tensorflow\\python\\eager\\execute.py\u001b[0m in \u001b[0;36mquick_execute\u001b[1;34m(op_name, num_outputs, inputs, attrs, ctx, name)\u001b[0m\n\u001b[0;32m     52\u001b[0m   \u001b[1;32mtry\u001b[0m\u001b[1;33m:\u001b[0m\u001b[1;33m\u001b[0m\u001b[1;33m\u001b[0m\u001b[0m\n\u001b[0;32m     53\u001b[0m     \u001b[0mctx\u001b[0m\u001b[1;33m.\u001b[0m\u001b[0mensure_initialized\u001b[0m\u001b[1;33m(\u001b[0m\u001b[1;33m)\u001b[0m\u001b[1;33m\u001b[0m\u001b[1;33m\u001b[0m\u001b[0m\n\u001b[1;32m---> 54\u001b[1;33m     tensors = pywrap_tfe.TFE_Py_Execute(ctx._handle, device_name, op_name,\n\u001b[0m\u001b[0;32m     55\u001b[0m                                         inputs, attrs, num_outputs)\n\u001b[0;32m     56\u001b[0m   \u001b[1;32mexcept\u001b[0m \u001b[0mcore\u001b[0m\u001b[1;33m.\u001b[0m\u001b[0m_NotOkStatusException\u001b[0m \u001b[1;32mas\u001b[0m \u001b[0me\u001b[0m\u001b[1;33m:\u001b[0m\u001b[1;33m\u001b[0m\u001b[1;33m\u001b[0m\u001b[0m\n",
            "\u001b[1;31mInvalidArgumentError\u001b[0m: Graph execution error:\n\nDetected at node 'sparse_categorical_crossentropy/SparseSoftmaxCrossEntropyWithLogits/SparseSoftmaxCrossEntropyWithLogits' defined at (most recent call last):\n    File \"C:\\Users\\Giovanni\\anaconda3\\lib\\runpy.py\", line 197, in _run_module_as_main\n      return _run_code(code, main_globals, None,\n    File \"C:\\Users\\Giovanni\\anaconda3\\lib\\runpy.py\", line 87, in _run_code\n      exec(code, run_globals)\n    File \"C:\\Users\\Giovanni\\anaconda3\\lib\\site-packages\\ipykernel_launcher.py\", line 16, in <module>\n      app.launch_new_instance()\n    File \"C:\\Users\\Giovanni\\anaconda3\\lib\\site-packages\\traitlets\\config\\application.py\", line 846, in launch_instance\n      app.start()\n    File \"C:\\Users\\Giovanni\\anaconda3\\lib\\site-packages\\ipykernel\\kernelapp.py\", line 677, in start\n      self.io_loop.start()\n    File \"C:\\Users\\Giovanni\\anaconda3\\lib\\site-packages\\tornado\\platform\\asyncio.py\", line 199, in start\n      self.asyncio_loop.run_forever()\n    File \"C:\\Users\\Giovanni\\anaconda3\\lib\\asyncio\\base_events.py\", line 596, in run_forever\n      self._run_once()\n    File \"C:\\Users\\Giovanni\\anaconda3\\lib\\asyncio\\base_events.py\", line 1890, in _run_once\n      handle._run()\n    File \"C:\\Users\\Giovanni\\anaconda3\\lib\\asyncio\\events.py\", line 80, in _run\n      self._context.run(self._callback, *self._args)\n    File \"C:\\Users\\Giovanni\\anaconda3\\lib\\site-packages\\ipykernel\\kernelbase.py\", line 457, in dispatch_queue\n      await self.process_one()\n    File \"C:\\Users\\Giovanni\\anaconda3\\lib\\site-packages\\ipykernel\\kernelbase.py\", line 446, in process_one\n      await dispatch(*args)\n    File \"C:\\Users\\Giovanni\\anaconda3\\lib\\site-packages\\ipykernel\\kernelbase.py\", line 353, in dispatch_shell\n      await result\n    File \"C:\\Users\\Giovanni\\anaconda3\\lib\\site-packages\\ipykernel\\kernelbase.py\", line 648, in execute_request\n      reply_content = await reply_content\n    File \"C:\\Users\\Giovanni\\anaconda3\\lib\\site-packages\\ipykernel\\ipkernel.py\", line 353, in do_execute\n      res = shell.run_cell(code, store_history=store_history, silent=silent)\n    File \"C:\\Users\\Giovanni\\anaconda3\\lib\\site-packages\\ipykernel\\zmqshell.py\", line 533, in run_cell\n      return super(ZMQInteractiveShell, self).run_cell(*args, **kwargs)\n    File \"C:\\Users\\Giovanni\\anaconda3\\lib\\site-packages\\IPython\\core\\interactiveshell.py\", line 2901, in run_cell\n      result = self._run_cell(\n    File \"C:\\Users\\Giovanni\\anaconda3\\lib\\site-packages\\IPython\\core\\interactiveshell.py\", line 2947, in _run_cell\n      return runner(coro)\n    File \"C:\\Users\\Giovanni\\anaconda3\\lib\\site-packages\\IPython\\core\\async_helpers.py\", line 68, in _pseudo_sync_runner\n      coro.send(None)\n    File \"C:\\Users\\Giovanni\\anaconda3\\lib\\site-packages\\IPython\\core\\interactiveshell.py\", line 3172, in run_cell_async\n      has_raised = await self.run_ast_nodes(code_ast.body, cell_name,\n    File \"C:\\Users\\Giovanni\\anaconda3\\lib\\site-packages\\IPython\\core\\interactiveshell.py\", line 3364, in run_ast_nodes\n      if (await self.run_code(code, result,  async_=asy)):\n    File \"C:\\Users\\Giovanni\\anaconda3\\lib\\site-packages\\IPython\\core\\interactiveshell.py\", line 3444, in run_code\n      exec(code_obj, self.user_global_ns, self.user_ns)\n    File \"C:\\Users\\Giovanni\\AppData\\Local\\Temp/ipykernel_7052/3599823103.py\", line 6, in <module>\n      model_3.fit(X, y, epochs = 10, batch_size = 64)\n    File \"C:\\Users\\Giovanni\\anaconda3\\lib\\site-packages\\keras\\utils\\traceback_utils.py\", line 64, in error_handler\n      return fn(*args, **kwargs)\n    File \"C:\\Users\\Giovanni\\anaconda3\\lib\\site-packages\\keras\\engine\\training.py\", line 1384, in fit\n      tmp_logs = self.train_function(iterator)\n    File \"C:\\Users\\Giovanni\\anaconda3\\lib\\site-packages\\keras\\engine\\training.py\", line 1021, in train_function\n      return step_function(self, iterator)\n    File \"C:\\Users\\Giovanni\\anaconda3\\lib\\site-packages\\keras\\engine\\training.py\", line 1010, in step_function\n      outputs = model.distribute_strategy.run(run_step, args=(data,))\n    File \"C:\\Users\\Giovanni\\anaconda3\\lib\\site-packages\\keras\\engine\\training.py\", line 1000, in run_step\n      outputs = model.train_step(data)\n    File \"C:\\Users\\Giovanni\\anaconda3\\lib\\site-packages\\keras\\engine\\training.py\", line 860, in train_step\n      loss = self.compute_loss(x, y, y_pred, sample_weight)\n    File \"C:\\Users\\Giovanni\\anaconda3\\lib\\site-packages\\keras\\engine\\training.py\", line 918, in compute_loss\n      return self.compiled_loss(\n    File \"C:\\Users\\Giovanni\\anaconda3\\lib\\site-packages\\keras\\engine\\compile_utils.py\", line 201, in __call__\n      loss_value = loss_obj(y_t, y_p, sample_weight=sw)\n    File \"C:\\Users\\Giovanni\\anaconda3\\lib\\site-packages\\keras\\losses.py\", line 141, in __call__\n      losses = call_fn(y_true, y_pred)\n    File \"C:\\Users\\Giovanni\\anaconda3\\lib\\site-packages\\keras\\losses.py\", line 245, in call\n      return ag_fn(y_true, y_pred, **self._fn_kwargs)\n    File \"C:\\Users\\Giovanni\\anaconda3\\lib\\site-packages\\keras\\losses.py\", line 1862, in sparse_categorical_crossentropy\n      return backend.sparse_categorical_crossentropy(\n    File \"C:\\Users\\Giovanni\\anaconda3\\lib\\site-packages\\keras\\backend.py\", line 5202, in sparse_categorical_crossentropy\n      res = tf.nn.sparse_softmax_cross_entropy_with_logits(\nNode: 'sparse_categorical_crossentropy/SparseSoftmaxCrossEntropyWithLogits/SparseSoftmaxCrossEntropyWithLogits'\nlogits and labels must have the same first dimension, got logits shape [1792,10] and labels shape [64]\n\t [[{{node sparse_categorical_crossentropy/SparseSoftmaxCrossEntropyWithLogits/SparseSoftmaxCrossEntropyWithLogits}}]] [Op:__inference_train_function_119033]"
          ]
        }
      ],
      "source": [
        "model_3 = keras.Sequential([keras.layers.Dense(128, activation = \"sigmoid\"),\n",
        "                         keras.layers.Dense(50, activation = \"relu\"),\n",
        "                         keras.layers.Dense(10, activation = \"softmax\")])\n",
        "\n",
        "model_3.compile(optimizer = \"adam\", loss = \"sparse_categorical_crossentropy\", metrics = [\"accuracy\"])\n",
        "model_3.fit(X, y, epochs = 10, batch_size = 64)"
      ]
    },
    {
      "cell_type": "markdown",
      "metadata": {
        "id": "-aNmrkkOZN6D"
      },
      "source": [
        "Tu respuesta a la pregunta 6 aquí:\n",
        "\n",
        "#### La capa Flatten nos ayuda a convertir datos que estan expresados en 2 o mas dimensiones, en datos unidimensionales"
      ]
    },
    {
      "cell_type": "markdown",
      "metadata": {
        "id": "f37cIr81ZYJj"
      },
      "source": [
        "# **Ejercicio 4: Número de neuronas de la capa de salida**\n",
        "Considerad la capa final, la de salida de la red neuronal de la pregunta 1.\n",
        "\n",
        "**pregunta 7.1 (0.25 puntos)**: ¿Por qué son 10 las neuronas de la última capa?\n",
        "\n",
        "**pregunta 7.2 (0.25 puntos)**: ¿Qué pasaría si tuvieras una cantidad diferente a 10? \n",
        "\n",
        "Por ejemplo, intenta entrenar la red con 5, para ello utiliza la red neuronal de la pregunta 1 y cambia a 5 el número de neuronas en la última capa."
      ]
    },
    {
      "cell_type": "code",
      "execution_count": null,
      "metadata": {
        "id": "FhbZkppYZOCS",
        "scrolled": false
      },
      "outputs": [],
      "source": [
        "model_4 = keras.Sequential([keras.layers.Flatten(input_shape = (28, 28)),\n",
        "                           keras.layers.Dense(128, activation = \"sigmoid\"),\n",
        "                           keras.layers.Dense(50, activation = \"relu\"),\n",
        "                           keras.layers.Dense(5, activation = \"softmax\")])\n",
        "model_4.compile(optimizer = \"adam\", loss = \"sparse_categorical_crossentropy\", metrics = [\"accuracy\"])\n",
        "model_4.fit(X, y, epochs = 10, batch_size = 64)"
      ]
    },
    {
      "cell_type": "markdown",
      "metadata": {
        "id": "SLsQcq-6aUoD"
      },
      "source": [
        "Tu respuestas a la pregunta 7.1 aquí:\n",
        "\n",
        "#### Es el valor mínimo para que se pueda generar el entrenamiento del modelo, ya que se tienen 10 etiquetas de la base de datos."
      ]
    },
    {
      "cell_type": "markdown",
      "metadata": {
        "id": "J1f_7ZFeaUu6"
      },
      "source": [
        "Tu respuestas a la pregunta 7.2 aquí:\n",
        "\n",
        "#### Mientras sea una cantidad mayor a 10, no existe ningún problema, pero si son menos de 10 nos arrojára un error por lo explicado en la pregunta anterior."
      ]
    },
    {
      "cell_type": "markdown",
      "metadata": {
        "id": "HNIBCkshaf2y"
      },
      "source": [
        "# Ejercicio 5: Aumento de epoch y su efecto en la red neuronal\n",
        "En este ejercicio vamos a ver el impacto de aumentar los epoch en el entrenamiento. Usando la red neuronal de la pregunta 1:\n",
        "\n",
        "**pregunta 8.1 (0.20 puntos)**\n",
        "* Intentad 15 epoch para su entrenamiento, probablemente obtendras un modelo con una pérdida mucho mejor que el que tiene 5.\n",
        "\n",
        "**pregunta 8.2 (0.20 puntos)**\n",
        "* Intenta ahora con 30 epoch para su entrenamiento, podrás ver que el valor de la pérdida deja de disminuir, y a veces aumenta.\n",
        "\n",
        "**pregunta 8.3 (0.60 puntos)**\n",
        "* ¿Porque que piensas que ocurre esto? Explica tu respuesta y da el nombre de este efecto si lo conoces."
      ]
    },
    {
      "cell_type": "code",
      "execution_count": null,
      "metadata": {
        "id": "Cb5vk_imG4iZ",
        "outputId": "525a0261-1ed5-447e-8704-6c2f9efd143a",
        "scrolled": false
      },
      "outputs": [
        {
          "name": "stdout",
          "output_type": "stream",
          "text": [
            "Epoch 1/15\n",
            "938/938 [==============================] - 2s 1ms/step - loss: 0.5715 - accuracy: 0.8024\n",
            "Epoch 2/15\n",
            "938/938 [==============================] - 1s 1ms/step - loss: 0.3942 - accuracy: 0.8572\n",
            "Epoch 3/15\n",
            "938/938 [==============================] - 1s 1ms/step - loss: 0.3583 - accuracy: 0.8698\n",
            "Epoch 4/15\n",
            "938/938 [==============================] - 1s 1ms/step - loss: 0.3346 - accuracy: 0.8786\n",
            "Epoch 5/15\n",
            "938/938 [==============================] - 1s 1ms/step - loss: 0.3157 - accuracy: 0.8855\n",
            "Epoch 6/15\n",
            "938/938 [==============================] - 1s 1ms/step - loss: 0.3016 - accuracy: 0.8895\n",
            "Epoch 7/15\n",
            "938/938 [==============================] - 1s 1ms/step - loss: 0.2897 - accuracy: 0.8933\n",
            "Epoch 8/15\n",
            "938/938 [==============================] - 1s 1ms/step - loss: 0.2789 - accuracy: 0.8954\n",
            "Epoch 9/15\n",
            "938/938 [==============================] - 1s 1ms/step - loss: 0.2689 - accuracy: 0.9003\n",
            "Epoch 10/15\n",
            "938/938 [==============================] - 1s 1ms/step - loss: 0.2595 - accuracy: 0.9037\n",
            "Epoch 11/15\n",
            "938/938 [==============================] - 1s 1ms/step - loss: 0.2502 - accuracy: 0.9068\n",
            "Epoch 12/15\n",
            "938/938 [==============================] - 1s 1ms/step - loss: 0.2436 - accuracy: 0.9086\n",
            "Epoch 13/15\n",
            "938/938 [==============================] - 1s 1ms/step - loss: 0.2339 - accuracy: 0.9125\n",
            "Epoch 14/15\n",
            "938/938 [==============================] - 1s 1ms/step - loss: 0.2261 - accuracy: 0.9156\n",
            "Epoch 15/15\n",
            "938/938 [==============================] - 1s 1ms/step - loss: 0.2204 - accuracy: 0.9167\n"
          ]
        },
        {
          "data": {
            "text/plain": [
              "<keras.callbacks.History at 0x1b0b5dfbfa0>"
            ]
          },
          "execution_count": 20,
          "metadata": {},
          "output_type": "execute_result"
        }
      ],
      "source": [
        "model_5 = keras.Sequential([keras.layers.Flatten(input_shape = (28, 28)),\n",
        "                           keras.layers.Dense(128, activation = \"sigmoid\"),\n",
        "                           keras.layers.Dense(50, activation = \"relu\"),\n",
        "                           keras.layers.Dense(10, activation = \"softmax\")])\n",
        "model_5.compile(optimizer = \"adam\", loss = \"sparse_categorical_crossentropy\", metrics = [\"accuracy\"])\n",
        "model_5.fit(X, y, epochs = 15, batch_size = 64)"
      ]
    },
    {
      "cell_type": "code",
      "execution_count": null,
      "metadata": {
        "id": "I9jQ26Gda5cv",
        "outputId": "8088b7eb-d3fd-46b4-d225-3004423bb9da",
        "scrolled": false
      },
      "outputs": [
        {
          "name": "stdout",
          "output_type": "stream",
          "text": [
            "Epoch 1/30\n",
            "938/938 [==============================] - 1s 1ms/step - loss: 0.5676 - accuracy: 0.8055\n",
            "Epoch 2/30\n",
            "938/938 [==============================] - 1s 1ms/step - loss: 0.3955 - accuracy: 0.8571\n",
            "Epoch 3/30\n",
            "938/938 [==============================] - 1s 1ms/step - loss: 0.3639 - accuracy: 0.8674\n",
            "Epoch 4/30\n",
            "938/938 [==============================] - 1s 1ms/step - loss: 0.3365 - accuracy: 0.8778\n",
            "Epoch 5/30\n",
            "938/938 [==============================] - 1s 1ms/step - loss: 0.3201 - accuracy: 0.8830\n",
            "Epoch 6/30\n",
            "938/938 [==============================] - 1s 1ms/step - loss: 0.3046 - accuracy: 0.8893\n",
            "Epoch 7/30\n",
            "938/938 [==============================] - 1s 1ms/step - loss: 0.2907 - accuracy: 0.8923\n",
            "Epoch 8/30\n",
            "938/938 [==============================] - 1s 1ms/step - loss: 0.2791 - accuracy: 0.8971\n",
            "Epoch 9/30\n",
            "938/938 [==============================] - 1s 1ms/step - loss: 0.2695 - accuracy: 0.8992\n",
            "Epoch 10/30\n",
            "938/938 [==============================] - 1s 1ms/step - loss: 0.2581 - accuracy: 0.9030\n",
            "Epoch 11/30\n",
            "938/938 [==============================] - 1s 1ms/step - loss: 0.2513 - accuracy: 0.9062\n",
            "Epoch 12/30\n",
            "938/938 [==============================] - 1s 1ms/step - loss: 0.2417 - accuracy: 0.9100\n",
            "Epoch 13/30\n",
            "938/938 [==============================] - 2s 2ms/step - loss: 0.2332 - accuracy: 0.9134\n",
            "Epoch 14/30\n",
            "938/938 [==============================] - 2s 2ms/step - loss: 0.2283 - accuracy: 0.9147\n",
            "Epoch 15/30\n",
            "938/938 [==============================] - 1s 2ms/step - loss: 0.2206 - accuracy: 0.9174\n",
            "Epoch 16/30\n",
            "938/938 [==============================] - 1s 1ms/step - loss: 0.2145 - accuracy: 0.9189\n",
            "Epoch 17/30\n",
            "938/938 [==============================] - 1s 1ms/step - loss: 0.2080 - accuracy: 0.9213\n",
            "Epoch 18/30\n",
            "938/938 [==============================] - 1s 2ms/step - loss: 0.2015 - accuracy: 0.9248\n",
            "Epoch 19/30\n",
            "938/938 [==============================] - 1s 1ms/step - loss: 0.1958 - accuracy: 0.9263\n",
            "Epoch 20/30\n",
            "938/938 [==============================] - 2s 2ms/step - loss: 0.1903 - accuracy: 0.9282\n",
            "Epoch 21/30\n",
            "938/938 [==============================] - 1s 1ms/step - loss: 0.1841 - accuracy: 0.9312\n",
            "Epoch 22/30\n",
            "938/938 [==============================] - 1s 1ms/step - loss: 0.1783 - accuracy: 0.9324\n",
            "Epoch 23/30\n",
            "938/938 [==============================] - 2s 2ms/step - loss: 0.1739 - accuracy: 0.9348\n",
            "Epoch 24/30\n",
            "938/938 [==============================] - 2s 2ms/step - loss: 0.1728 - accuracy: 0.9354\n",
            "Epoch 25/30\n",
            "938/938 [==============================] - 2s 2ms/step - loss: 0.1649 - accuracy: 0.9388\n",
            "Epoch 26/30\n",
            "938/938 [==============================] - 1s 2ms/step - loss: 0.1609 - accuracy: 0.9399\n",
            "Epoch 27/30\n",
            "938/938 [==============================] - 1s 1ms/step - loss: 0.1570 - accuracy: 0.9406\n",
            "Epoch 28/30\n",
            "938/938 [==============================] - 1s 1ms/step - loss: 0.1530 - accuracy: 0.9431\n",
            "Epoch 29/30\n",
            "938/938 [==============================] - 1s 2ms/step - loss: 0.1495 - accuracy: 0.9440\n",
            "Epoch 30/30\n",
            "938/938 [==============================] - 2s 2ms/step - loss: 0.1443 - accuracy: 0.9462\n"
          ]
        },
        {
          "data": {
            "text/plain": [
              "<keras.callbacks.History at 0x1b0b5ee1d60>"
            ]
          },
          "execution_count": 21,
          "metadata": {},
          "output_type": "execute_result"
        }
      ],
      "source": [
        "model_6 = keras.Sequential([keras.layers.Flatten(input_shape = (28, 28)),\n",
        "                           keras.layers.Dense(128, activation = \"sigmoid\"),\n",
        "                           keras.layers.Dense(50, activation = \"relu\"),\n",
        "                           keras.layers.Dense(10, activation = \"softmax\")])\n",
        "model_6.compile(optimizer = \"adam\", loss = \"sparse_categorical_crossentropy\", metrics = [\"accuracy\"])\n",
        "model_6.fit(X, y, epochs = 30, batch_size = 64)"
      ]
    },
    {
      "cell_type": "markdown",
      "metadata": {
        "id": "Fs0fjzH4bmSR"
      },
      "source": [
        "Tu respuesta a la pregunta 8.3 aquí:\n",
        "\n",
        "#### El \"learning rate decay\" es un parámetro que nos ayuda a que el \"learning rate\" vaya siendo menor, conforme el número de epoch va aumentando, se optimiza el aprendizaje y permite que \"loss\" vaya disminuyendo conforme se acerca a una posible solución.\n",
        "\n"
      ]
    },
    {
      "cell_type": "markdown",
      "metadata": {
        "id": "HlIgNG4Yb_N6"
      },
      "source": [
        "# Ejercicio 6: Early stop\n",
        "En el ejercicio anterior, cuando entrenabas con epoch extras, tenías un problema en el que tu pérdida podía cambiar. Puede que te haya llevado un poco de tiempo esperar a que el entrenamiento lo hiciera,  y puede que hayas pensado \"¿no estaría bien si pudiera parar el entrenamiento cuando alcance un valor deseado?\", es decir, una precisión del 85% podría ser suficiente para ti, y si alcanzas eso después de 3 epoch, ¿por qué sentarte a esperar a que termine muchas más épocas? Como cualquier otro programa existen formas de parar la ejecución\n",
        "\n",
        "A partir del ejemplo de código que\n",
        "\n",
        " se da, hacer una nueva función que tenga en cuenta la perdida (loss) y que pueda parar el código para\n",
        "evitar que ocurra el efeto secundario que vimos en el ejercicio 5."
      ]
    },
    {
      "cell_type": "code",
      "execution_count": null,
      "metadata": {
        "id": "b5UwceFUG4ic"
      },
      "outputs": [],
      "source": [
        "### Ejemplo de código\n",
        "\n",
        "class myCallback(tf.keras.callbacks.Callback):\n",
        "      def on_epoch_end(self, epoch, logs={}):\n",
        "        if(logs.get('accuracy')> 0.85):\n",
        "              print(\"\\nAlcanzado el 85% de precisión, se cancela el entrenamiento!!\")\n",
        "              self.model.stop_training = True"
      ]
    },
    {
      "cell_type": "markdown",
      "metadata": {
        "id": "0Bjd8wGKccrn"
      },
      "source": [
        "**Pregunta 9 (2 puntos)**: Completa el siguiente código con una clase callback que una vez alcanzado el 40% de perdida detenga el entrenamiento."
      ]
    },
    {
      "cell_type": "code",
      "execution_count": null,
      "metadata": {
        "id": "29LSfdOvc270"
      },
      "outputs": [],
      "source": [
        "import tensorflow as tf\n",
        "print(tf.__version__)\n",
        "\n",
        "class myCallback(tf.keras.callbacks.Callback):\n",
        "      def on_epoch_end(self, epoch, logs={}):\n",
        "        if(logs.get('accuracy')> 0.40):\n",
        "              print(\"\\nAlcanzado el 40% de precisión, se cancela el entrenamiento!!\")\n",
        "              self.model.stop_training = True\n",
        "            \n",
        "callbacks = myCallback()\n",
        "mnist = tf.keras.datasets.fashion_mnist\n",
        "(training_images, training_labels) ,  (test_images, test_labels) = mnist.load_data()\n",
        "\n",
        "training_images = training_images/255.0\n",
        "test_images = test_images/255.0\n",
        "\n",
        "model = tf.keras.models.Sequential([tf.keras.layers.Flatten(),\n",
        "                                    tf.keras.layers.Dense(512, activation=tf.nn.relu),\n",
        "                                    tf.keras.layers.Dense(10, activation=tf.nn.softmax)])\n",
        "\n",
        "model.compile(optimizer = 'adam',\n",
        "              loss = 'sparse_categorical_crossentropy',\n",
        "              metrics=['accuracy']) \n",
        "\n",
        "model.fit(training_images, training_labels, epochs=50, callbacks=[callbacks])"
      ]
    }
  ],
  "metadata": {
    "colab": {
      "collapsed_sections": [],
      "name": "Actividad_1_master_IA_SCA.ipynb",
      "provenance": []
    },
    "kernelspec": {
      "display_name": "Python 3.9.7 ('base')",
      "language": "python",
      "name": "python3"
    },
    "language_info": {
      "codemirror_mode": {
        "name": "ipython",
        "version": 3
      },
      "file_extension": ".py",
      "mimetype": "text/x-python",
      "name": "python",
      "nbconvert_exporter": "python",
      "pygments_lexer": "ipython3",
      "version": "3.9.7"
    },
    "vscode": {
      "interpreter": {
        "hash": "facef925bc4600fb61034d39cee95b57bae21946036c03f370e6273d3ef2b545"
      }
    }
  },
  "nbformat": 4,
  "nbformat_minor": 0
}
